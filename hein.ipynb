{
 "cells": [
  {
   "cell_type": "code",
   "execution_count": 1,
   "id": "ceramic-douglas",
   "metadata": {},
   "outputs": [],
   "source": [
    "from ord_schema import message_helpers\n",
    "from ord_schema.proto import dataset_pb2\n",
    "from ord_schema.proto import reaction_pb2"
   ]
  },
  {
   "cell_type": "code",
   "execution_count": 2,
   "id": "starting-outdoors",
   "metadata": {},
   "outputs": [],
   "source": [
    "dataset = dataset_pb2.Dataset()\n",
    "dataset.name = 'Development of an automated kinetic profiling system with online HPLC for reaction optimization'\n",
    "dataset.description = 'Reactions from DOI: 10.1039/c9re00086k'"
   ]
  },
  {
   "cell_type": "markdown",
   "id": "arranged-block",
   "metadata": {},
   "source": [
    "# Synthesis of 3-(E)"
   ]
  },
  {
   "cell_type": "code",
   "execution_count": 4,
   "id": "technological-movie",
   "metadata": {},
   "outputs": [],
   "source": [
    "SYNTHESIS_3E = 'synthesis_of_3e'"
   ]
  },
  {
   "cell_type": "code",
   "execution_count": null,
   "id": "coordinated-token",
   "metadata": {},
   "outputs": [],
   "source": [
    "reaction = dataset.reactions.add()\n",
    "reaction.reaction_id = SYNTHESIS_3E"
   ]
  },
  {
   "cell_type": "markdown",
   "id": "quiet-projector",
   "metadata": {},
   "source": [
    "# Procedure 1\n",
    "\n",
    "To a 4 ml reaction vial equipped with a magnetic\n",
    "tumble stir disc under N2 atmosphere was charged (E)-methyl 3-cyclopropyl-2-methyl-3-\n",
    "(tosyloxy)acrylate 3-(E) (40.0 mg, 0.129 mmol), (3-(benzyloxy)phenyl)boronic acid 4 (32.3 mg,\n",
    "0.142 mmol), palladium precatalyst 5 (5.96 mg, 6.44 µmol) and 1,3,5-trimethoxybenzene (2.17\n",
    "mg, 0.013 mmol). ACN (1000 µl) and water (10 µl) were added and the mixture agitated to\n",
    "dissolve all solids. To a 40 ml vial was charged K3PO4 (2.12 g, 10.0 mmol) and water to dilute to\n",
    "10 ml. The resulting 1 M aqueous K3PO4 solution was then sparged with N2 gas for 30 min in\n",
    "preparation for automated dispensing (387 µl, 0.387 mmol). Finally, to a 96-well sample dilution\n",
    "plate was charged 400 µl of a 9:1 mixture of acetonitrile and aqueous pH 3.5 ammonium formate\n",
    "buffer."
   ]
  },
  {
   "cell_type": "code",
   "execution_count": null,
   "id": "friendly-royalty",
   "metadata": {},
   "outputs": [],
   "source": [
    "reaction = dataset.reactions.add()\n",
    "\n",
    "this_input = reaction.inputs['vinyl tosylate']\n",
    "this_input.addition_order = 1\n",
    "component = this_input.components.add()\n",
    "component.reaction_role = component.reaction_role.REACTANT\n",
    "component.identifiers.add(value='COC(=O)/C(C)=C(/OS(=O)(=O)c1ccc(C)cc1)C1CC1', type='SMILES')\n",
    "component.amount.moles.value = 129\n",
    "component.amount.moles.units = component.amount.moles.MICROMOLE\n",
    "component.preparations.add(type='SYNTHESIZED', reaction_id=SYNTHESIS_3E)\n",
    "\n",
    "this_input = reaction.inputs['boronic acid']\n",
    "this_input.addition_order = 1\n",
    "component = this_input.components.add()\n",
    "component.reaction_role = component.reaction_role.REACTANT\n",
    "component.identifiers.add(value='O=C(Oc1cccc(B(O)O)c1)c1ccccc1', type='SMILES')\n",
    "component.amount.moles.value = 142\n",
    "component.amount.moles.units = component.amount.moles.MICROMOLE\n",
    "component.preparations.add(type='NONE')\n",
    "\n",
    "this_input = reaction.inputs['palladium precatalyst']\n",
    "this_input.addition_order = 1\n",
    "component = this_input.components.add()\n",
    "component.reaction_role = component.reaction_role.CATALYST\n",
    "component.identifiers.add(value='CS(O[Pd]1([P](C2=CC=CC=C2)(C3=CC=CC=C3)C4=CC=CC4[Fe]C5C(P(C6=CC=CC=C6)C7=CC=CC=C7)=CC=C5)C8=CC=CC=C8C9=C([NH2]1)C=CC=C9)(=O)=O', type='SMILES')\n",
    "component.amount.moles.value = 6.44\n",
    "component.amount.moles.units = component.amount.moles.MICROMOLE\n",
    "\n",
    "this_input = reaction.inputs['1,3,5-trimethoxybenzene']\n",
    "this_input.addition_order = 1\n",
    "component = this_input.components.add()\n",
    "component.reaction_role = component.reaction_role.REAGENT\n",
    "component.identifiers.add(value='COc1cc(OC)cc(OC)c1', type='SMILES')\n",
    "component.amount.moles.value = 13\n",
    "component.amount.moles.units = component.amount.moles.MICROMOLE\n",
    "\n",
    "this_input = reaction.inputs['solvents']\n",
    "this_input.addition_order = 1\n",
    "component = this_input.components.add()\n",
    "component.reaction_role = component.reaction_role.SOLVENT\n",
    "component.identifiers.add(value='CC#N', type='SMILES')\n",
    "component.amount.volume.value = 1\n",
    "component.amount.volume.units = component.amount.volume.MILLILITER\n",
    "component = this_input.components.add()\n",
    "component.reaction_role = component.reaction_role.SOLVENT\n",
    "component.identifiers.add(value='O', type='SMILES')\n",
    "component.amount.volume.value = 10\n",
    "component.amount.volume.units = component.amount.volume.MICROLITER\n",
    "\n",
    "this_input = reaction.inputs['base']\n",
    "this_input.addition_order = 2\n",
    "component = this_input.components.add()\n",
    "component.reaction_role = component.reaction_role.REAGENT\n",
    "component.identifiers.add(value='O=P([O-])([O-])[O-].[K+].[K+].[K+]', type='SMILES')\n",
    "component.amount.moles.value = 387\n",
    "component.amount.moles.units = component.amount.moles.MICROMOLE\n",
    "component = this_input.components.add()\n",
    "component.reaction_role = component.reaction_role.SOLVENT\n",
    "component.identifiers.add(value='O', type='SMILES')\n",
    "component.amount.volume.value = 387\n",
    "component.amount.volume.units = component.amount.volume.MICROLITER\n",
    "component.amount.volume.includes_solutes = True\n",
    "component.preparations.add(type='SPARGED', details='To a 40 ml vial was charged K3PO4 (2.12 g, 10.0 mmol) and water to dilute to 10 ml. The resulting 1 M aqueous K3PO4 solution was then sparged with N2 gas for 30 min in preparation for automated dispensing (387 µl, 0.387 mmol).')"
   ]
  },
  {
   "cell_type": "code",
   "execution_count": null,
   "id": "pacific-biography",
   "metadata": {},
   "outputs": [],
   "source": [
    "reaction.setup.vessel.type = reaction.setup.vessel.VIAL\n",
    "reaction.setup.vessel.details = 'Reactions were carried out in sealed 4 ml borosilicate glass vials with red pressure relief caps (CG4912-01).'\n",
    "reaction.setup.vessel.material = reaction.setup.vessel.material.GLASS\n",
    "reaction.setup.vessel.material.details = 'borosilicate'\n",
    "reaction.setup.vessel.volume.value = 4\n",
    "reaction.setup.vessel.volume.units = reaction.setup.vessel.volume.MILLILITER\n",
    "reaction.setup.vessel.attachments.add(type='CAP')\n",
    "reaction.setup.is_automated = True"
   ]
  },
  {
   "cell_type": "code",
   "execution_count": null,
   "id": "speaking-airplane",
   "metadata": {},
   "outputs": [],
   "source": [
    "reaction.conditions.temperature.setpoint.value = 25\n",
    "reaction.conditions.temperature.setpoint.units = reaction.conditions.temperature.setpoint.CELSIUS\n",
    "\n",
    "reaction.conditions.pressure.atmosphere.type = reaction.conditions.pressure.atmosphere.NITROGEN\n",
    "\n",
    "reaction.conditions.stirring.method.type = reaction.conditions.stirring.method.STIR_BAR\n",
    "reaction.conditions.stirring.method.details = 'Vigorous agitation was achieved with parylene-coated NdFeB magnetic tumble stir discs (VP 782N6).'\n",
    "reaction.conditions.stirring.rate.type = reaction.conditions.stirring.rate.HIGH"
   ]
  },
  {
   "cell_type": "code",
   "execution_count": null,
   "id": "hazardous-hollow",
   "metadata": {},
   "outputs": [],
   "source": [
    "reaction.notes.procedure_details = \"\"\"To a 4 ml reaction vial equipped with a magnetic\n",
    "tumble stir disc under N2 atmosphere was charged (E)-methyl 3-cyclopropyl-2-methyl-3-\n",
    "(tosyloxy)acrylate 3-(E) (40.0 mg, 0.129 mmol), (3-(benzyloxy)phenyl)boronic acid 4 (32.3 mg,\n",
    "0.142 mmol), palladium precatalyst 5 (5.96 mg, 6.44 µmol) and 1,3,5-trimethoxybenzene (2.17\n",
    "mg, 0.013 mmol). ACN (1000 µl) and water (10 µl) were added and the mixture agitated to\n",
    "dissolve all solids. To a 40 ml vial was charged K3PO4 (2.12 g, 10.0 mmol) and water to dilute to\n",
    "10 ml. The resulting 1 M aqueous K3PO4 solution was then sparged with N2 gas for 30 min in\n",
    "preparation for automated dispensing (387 µl, 0.387 mmol). Finally, to a 96-well sample dilution\n",
    "plate was charged 400 µl of a 9:1 mixture of acetonitrile and aqueous pH 3.5 ammonium formate\n",
    "buffer.\n",
    "\"\"\""
   ]
  },
  {
   "cell_type": "code",
   "execution_count": null,
   "id": "toxic-intent",
   "metadata": {},
   "outputs": [],
   "source": [
    "workup = reaction.workups.add()\n",
    "workup.type = workup.ALIQUOT\n",
    "workup.details = 'Reaction aliquots were sampled into 96-well dilution plates (Analytical Sales 17P687) capped with pre-slit silicone/PTFE cap mats (Analytical Sales 965075).'\n",
    "workup.amount.volume.value = 20\n",
    "workup.amount.volume.units = workup.amount.volue.MICROLITER\n",
    "workup.is_automated = True\n",
    "\n",
    "workup = reaction.workups.add()\n",
    "workup.type = workup.ADDITION\n",
    "component = workup.input.components.add()\n",
    "component.reaction_role = component.reaction_role.WORKUP\n",
    "component.identifiers.add(value='CC#N', type='SMILES')\n",
    "component.amount.volume.value = 360\n",
    "component.amount.volume.units = component.amount.volume.MICROLITER\n",
    "component.amount.volume.includes_solutes = False\n",
    "component = workup.input.components.add()\n",
    "component.reaction_role = component.reaction_role.WORKUP\n",
    "component.identifiers.add(value='O', type='SMILES')\n",
    "component.amount.volume.value = 40\n",
    "component.amount.volume.units = component.amount.volume.MICROLITER\n",
    "component.amount.volume.includes_solutes = True\n",
    "component = workup.input.components.add()\n",
    "component.reaction_role = component.reaction_role.WORKUP\n",
    "component.identifiers.add(value='O=C[O-].[NH4+]', type='SMILES')\n",
    "component.amount.mass.value = 504\n",
    "component.amount.mass.units = component.amount.volume.MICROGRAM\n",
    "component = workup.input.components.add()\n",
    "component.reaction_role = component.reaction_role.WORKUP\n",
    "component.identifiers.add(value='O=CO', type='SMILES')\n",
    "component.amount.volume.value = 316\n",
    "component.amount.volume.units = component.amount.volume.MICROLITER\n",
    "component.amount.volume.includes_solutes = False\n",
    "workup.is_automated = True\n",
    "workup.stirring.type = workup.stirring.CUSTOM\n",
    "workup.stirring.details = \"\"\"Upon\n",
    "transfer, a 200 µl N2 cushion was drawn by the needle, followed by a 200 µl aliquot from the\n",
    "dilution plate. The 200 ul aliquot and N2 cushion were then re-dispensed to the dilution plate at\n",
    "10 ml/min flow rate to effectively mix the sample.\n",
    "\"\"\""
   ]
  },
  {
   "cell_type": "code",
   "execution_count": null,
   "id": "editorial-fortune",
   "metadata": {},
   "outputs": [],
   "source": []
  }
 ],
 "metadata": {
  "kernelspec": {
   "display_name": "Python 3",
   "language": "python",
   "name": "python3"
  },
  "language_info": {
   "codemirror_mode": {
    "name": "ipython",
    "version": 3
   },
   "file_extension": ".py",
   "mimetype": "text/x-python",
   "name": "python",
   "nbconvert_exporter": "python",
   "pygments_lexer": "ipython3",
   "version": "3.7.7"
  }
 },
 "nbformat": 4,
 "nbformat_minor": 5
}
